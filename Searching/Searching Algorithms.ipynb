{
 "cells": [
  {
   "cell_type": "markdown",
   "metadata": {},
   "source": [
    "1. For postivie integer array with values 1 to n - 1, check if there is any duplicated number"
   ]
  },
  {
   "cell_type": "code",
   "execution_count": 12,
   "metadata": {},
   "outputs": [],
   "source": [
    "def checkDuplicate(arr):\n",
    "    for i in range(len(arr)):\n",
    "        if arr[abs(arr[i])] < 0:\n",
    "            return True\n",
    "        \n",
    "        arr[abs(arr[i])] = - 1\n",
    "\n",
    "    return False"
   ]
  },
  {
   "cell_type": "code",
   "execution_count": 14,
   "metadata": {},
   "outputs": [
    {
     "data": {
      "text/plain": [
       "False"
      ]
     },
     "execution_count": 14,
     "metadata": {},
     "output_type": "execute_result"
    }
   ],
   "source": [
    "arr = [3, 0, 2, 1]\n",
    "checkDuplicate(arr)"
   ]
  },
  {
   "cell_type": "markdown",
   "metadata": {},
   "source": [
    "2. Maximum repeated number in the list"
   ]
  },
  {
   "cell_type": "code",
   "execution_count": null,
   "metadata": {},
   "outputs": [],
   "source": [
    "def maxRepeatedElement(arr):\n",
    "    arr.sort()\n",
    "    count, maxRepeated = 1, None\n",
    "    element = arr[0]\n",
    "    maxRepetition = 1\n",
    "\n",
    "    for i in range(1, len(arr)):\n",
    "        if arr[i] == element:\n",
    "            count += 1\n",
    "            if count > maxRepetition:\n",
    "                maxRepeatition = count\n",
    "                maxRepeated = element\n",
    "        else:\n",
    "            count = 1\n",
    "            element = arr[i]\n",
    "\n",
    "    return maxRepeated, maxRepetition\n"
   ]
  },
  {
   "cell_type": "code",
   "execution_count": 17,
   "metadata": {},
   "outputs": [
    {
     "data": {
      "text/plain": [
       "(3, 4)"
      ]
     },
     "execution_count": 17,
     "metadata": {},
     "output_type": "execute_result"
    }
   ],
   "source": [
    "arr = [3, 2, 1, 3, 2, 2, 3, 3]\n",
    "maxRepeatedElement(arr)"
   ]
  },
  {
   "cell_type": "markdown",
   "metadata": {},
   "source": [
    "Q 2 and assuming 0 < element < len(arr)"
   ]
  },
  {
   "cell_type": "code",
   "execution_count": 18,
   "metadata": {},
   "outputs": [],
   "source": [
    "def maxRepeated2(arr):\n",
    "    maxRepElement = 0\n",
    "    maxRep = 0\n",
    "    n = len(arr)\n",
    "\n",
    "    for i in range(n):\n",
    "        arr[arr[i] % n] += n\n",
    "\n",
    "    for i in range(n):\n",
    "        currRep = arr[i] // n\n",
    "        if currRep > maxRep:\n",
    "            maxRepeatedElement = i\n",
    "            maxRep = currRep\n",
    "\n",
    "    return maxRepeatedElement, maxRep\n"
   ]
  },
  {
   "cell_type": "code",
   "execution_count": 19,
   "metadata": {},
   "outputs": [
    {
     "data": {
      "text/plain": [
       "(3, 4)"
      ]
     },
     "execution_count": 19,
     "metadata": {},
     "output_type": "execute_result"
    }
   ],
   "source": [
    "arr = [3, 2, 1, 3, 2, 2, 3, 3]\n",
    "maxRepeatedElement(arr)"
   ]
  },
  {
   "cell_type": "code",
   "execution_count": null,
   "metadata": {},
   "outputs": [],
   "source": []
  }
 ],
 "metadata": {
  "kernelspec": {
   "display_name": "Python 3",
   "language": "python",
   "name": "python3"
  },
  "language_info": {
   "codemirror_mode": {
    "name": "ipython",
    "version": 3
   },
   "file_extension": ".py",
   "mimetype": "text/x-python",
   "name": "python",
   "nbconvert_exporter": "python",
   "pygments_lexer": "ipython3",
   "version": "3.11.9"
  }
 },
 "nbformat": 4,
 "nbformat_minor": 2
}
