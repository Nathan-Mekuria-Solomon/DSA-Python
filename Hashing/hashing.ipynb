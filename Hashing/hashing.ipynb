{
 "cells": [
  {
   "cell_type": "markdown",
   "metadata": {},
   "source": [
    "Implementation of Hash Table"
   ]
  },
  {
   "cell_type": "code",
   "execution_count": 1,
   "metadata": {},
   "outputs": [],
   "source": [
    "class HashTable:\n",
    "    def __init__(self):\n",
    "        self.size = 11\n",
    "        self.slots = [None] * self.size\n",
    "        self.data = [None] * self.size\n",
    "\n",
    "    def put(self, key, data):\n",
    "        hashvalue = self.hashfunction(key, len(self.slots))\n",
    "\n",
    "        if self.slots[hashvalue] == None:\n",
    "            self.slots[hashvalue] = key\n",
    "            self.data[hashvalue] = data\n",
    "        else:\n",
    "            # there is an replace if condition on the book, but I couldnt see the releavance\n",
    "            nextslot = self.rehash(hashvalue, len(self.slots))\n",
    "            while self.slots[nextslot] != None and self.slots[nextslot] != key:\n",
    "                nextslot = self.rehash(nextslot, len(self.slots))\n",
    "\n",
    "            if self.slots[nextslot] == None:\n",
    "                self.slots[nextslot] = key\n",
    "                self.data[nextslot] = data\n",
    "            else:\n",
    "                self.data[nextslot] = data # replace\n",
    "\n",
    "    def hashfunction(self, key, size):\n",
    "        return key % size\n",
    "    \n",
    "    def rehash(self, oldkey, size):\n",
    "        return (oldkey + 1) % size\n",
    "    \n",
    "    def get(self, key):\n",
    "        startslot = self.hashfunction(self, key, len(self.slots))\n",
    "\n",
    "        data = None\n",
    "        found = False\n",
    "        stop = False\n",
    "        position = startslot\n",
    "\n",
    "        while self.slots[position] != None and not found and not stop:\n",
    "            if position == key:\n",
    "                data = self.data[position]\n",
    "            else:\n",
    "                position = self.rehash(position, len(self.slots))\n",
    "                if position == startslot:\n",
    "                    stop = True\n",
    "\n",
    "        return data\n",
    "    \n",
    "    def __getitem__(self, key):\n",
    "        return self.get(key)\n",
    "    \n",
    "    def __setitem__(self, key, data):\n",
    "        self.put(key, data)"
   ]
  },
  {
   "cell_type": "markdown",
   "metadata": {},
   "source": [
    "Removing Duplicates in Sorted Array"
   ]
  },
  {
   "cell_type": "code",
   "execution_count": null,
   "metadata": {},
   "outputs": [
    {
     "name": "stdout",
     "output_type": "stream",
     "text": [
      "[1, 6, 7, 8]\n"
     ]
    }
   ],
   "source": [
    "# memory efficient implementation\n",
    "# Time Complexity O(nlogn) -> Sorting\n",
    "# Space Complexity O(1) ? maybe since we are updating the array on itself\n",
    "\n",
    "def removeDuplicates(arr):\n",
    "    arr.sort()\n",
    "    j = 0\n",
    "    for i in range(1, len(arr)):\n",
    "        if arr[j] != arr[i]:\n",
    "            j += 1\n",
    "            arr[j] = arr[i]\n",
    "\n",
    "    print(arr[:j+1])\n",
    "\n",
    "arr = [1, 6, 7, 8, 6]\n",
    "removeDuplicates(arr)\n"
   ]
  },
  {
   "cell_type": "markdown",
   "metadata": {},
   "source": [
    "Return After Removing Duplicated Items Using Hashtable"
   ]
  },
  {
   "cell_type": "code",
   "execution_count": 3,
   "metadata": {},
   "outputs": [
    {
     "data": {
      "text/plain": [
       "[1, 2, 4, 'a', 'b', 'c', 3]"
      ]
     },
     "execution_count": 3,
     "metadata": {},
     "output_type": "execute_result"
    }
   ],
   "source": [
    "\n",
    "# Time Complexity O(n)\n",
    "# Space Complexity O(n)\n",
    "\n",
    "def removeDuplicate(arr):\n",
    "    unique = []\n",
    "    helperSet = set()\n",
    "\n",
    "    for character in arr:\n",
    "        if character not in helperSet:\n",
    "            unique.append(character)\n",
    "            helperSet.add(character)\n",
    "\n",
    "    return unique\n",
    "\n",
    "arr = [1, 2, 4, 'a', 'b', 'c', 'a', 1, 2, 3]\n",
    "removeDuplicate(arr)"
   ]
  },
  {
   "cell_type": "markdown",
   "metadata": {},
   "source": [
    "Given a List of Pairs, Check and Return If Symmetric Pair Exsists. Symmetric Pair: if both (x, y) and (y, x) are present"
   ]
  },
  {
   "cell_type": "code",
   "execution_count": 5,
   "metadata": {},
   "outputs": [
    {
     "data": {
      "text/plain": [
       "[(6, 2), (2, 6)]"
      ]
     },
     "execution_count": 5,
     "metadata": {},
     "output_type": "execute_result"
    }
   ],
   "source": [
    "def symmetricPairs(pairs):\n",
    "    helperDict = {}\n",
    "    symmetric = []\n",
    "\n",
    "    for x, y in pairs:\n",
    "        if y in helperDict and helperDict[y] == x:\n",
    "            if (x, y) not in symmetric:\n",
    "                symmetric.append((x, y))\n",
    "                symmetric.append((y,x))\n",
    "        helperDict[x] = y\n",
    "\n",
    "    return symmetric\n",
    "\n",
    "pairs = [(1, 3), (2, 6), (3, 5), (6, 2)]\n",
    "symmetricPairs(pairs)\n"
   ]
  },
  {
   "cell_type": "markdown",
   "metadata": {},
   "source": [
    "Check if the Linked List has a Loop"
   ]
  },
  {
   "cell_type": "code",
   "execution_count": 6,
   "metadata": {},
   "outputs": [
    {
     "data": {
      "text/plain": [
       "False"
      ]
     },
     "execution_count": 6,
     "metadata": {},
     "output_type": "execute_result"
    }
   ],
   "source": [
    "# the implementation is wrong (class linkedlist is supposed to be node)\n",
    "\n",
    "class LinkedList(object):\n",
    "    def __init__(self, data= None, next= None):\n",
    "        self.data = data\n",
    "        self.next = next\n",
    "\n",
    "l1 = LinkedList(1)\n",
    "l2 = LinkedList(2, l1)\n",
    "l3 = LinkedList(3, l2)\n",
    "l4 = LinkedList(4, l3)\n",
    "\n",
    "def checkLoop(ll):\n",
    "    helperSet = set()\n",
    "\n",
    "    while ll != None:\n",
    "        if ll in helperSet:\n",
    "            return True\n",
    "        helperSet.add(ll)\n",
    "        ll = ll.next\n",
    "\n",
    "    return False\n",
    "\n",
    "checkLoop(l4)\n",
    "\n"
   ]
  },
  {
   "cell_type": "code",
   "execution_count": null,
   "metadata": {},
   "outputs": [],
   "source": []
  }
 ],
 "metadata": {
  "kernelspec": {
   "display_name": "Python 3",
   "language": "python",
   "name": "python3"
  },
  "language_info": {
   "codemirror_mode": {
    "name": "ipython",
    "version": 3
   },
   "file_extension": ".py",
   "mimetype": "text/x-python",
   "name": "python",
   "nbconvert_exporter": "python",
   "pygments_lexer": "ipython3",
   "version": "3.11.9"
  }
 },
 "nbformat": 4,
 "nbformat_minor": 2
}
