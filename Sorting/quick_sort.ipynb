{
 "cells": [
  {
   "cell_type": "markdown",
   "id": "232a8065",
   "metadata": {},
   "source": [
    "1. LinkedQueue implementation (FIFO)"
   ]
  },
  {
   "cell_type": "code",
   "execution_count": 5,
   "id": "60dfebd3",
   "metadata": {},
   "outputs": [],
   "source": [
    "class LinkedQueue(object):\n",
    "    class Node():\n",
    "        def __init__(self, data= None, next= None):\n",
    "            self.data = data\n",
    "            self.next = next\n",
    "\n",
    "    def __init__(self):\n",
    "        self.head = None\n",
    "        self.tail = None\n",
    "        self.size = 0\n",
    "\n",
    "    def __len__(self):\n",
    "        return self.size\n",
    "    \n",
    "    def is_empty(self):\n",
    "        return self.size == 0\n",
    "    \n",
    "    def first(self):\n",
    "        if not self.is_empty():\n",
    "            return self.head.data\n",
    "        \n",
    "    def dequeue(self):\n",
    "        if not self.is_empty():\n",
    "            ans = self.head.data\n",
    "            self.head = self.head.next\n",
    "            self.size -= 1\n",
    "\n",
    "            if self.is_empty():\n",
    "                self.tail = None\n",
    "\n",
    "            return ans\n",
    "        \n",
    "        raise(\"Empty Queue\")\n",
    "    \n",
    "    def enqueue(self, data):\n",
    "        newest = self.Node(data)\n",
    "\n",
    "        if self.is_empty():\n",
    "            self.head = newest\n",
    "        else:\n",
    "            self.tail.next = newest\n",
    "        \n",
    "        self.tail = newest\n",
    "        self.size += 1\n"
   ]
  },
  {
   "cell_type": "markdown",
   "id": "436beae9",
   "metadata": {},
   "source": [
    "2. Quick Sort Implementation on LinkedQueue() Class that is Implemented as Above"
   ]
  },
  {
   "cell_type": "code",
   "execution_count": 6,
   "id": "38728236",
   "metadata": {},
   "outputs": [],
   "source": [
    "def quickSort(S):\n",
    "    \"\"\"Sorting a LinkedQueue S using quick sort algorithm\"\"\"\n",
    "    # divide\n",
    "    n = len(S)\n",
    "    if n < 2:\n",
    "        return\n",
    "    \n",
    "    L = LinkedQueue()\n",
    "    E = LinkedQueue()\n",
    "    G = LinkedQueue()\n",
    "\n",
    "    p = S.first()\n",
    "\n",
    "    while not S.is_empty():\n",
    "        if S.first() < p:\n",
    "            L.enqueue(S.dequeue())\n",
    "        elif S.first() > p:\n",
    "            G.enqueue(S.dequeue())\n",
    "        else:\n",
    "            E.enqueue(S.dequeue())\n",
    "\n",
    "    # conquer with recursion\n",
    "    quickSort(L)\n",
    "    quickSort(G)\n",
    "\n",
    "    # concatinate\n",
    "    while not L.is_empty():\n",
    "        S.enqueue(L.dequeue())\n",
    "\n",
    "    while not E.is_empty():\n",
    "        S.enqueue(E.dequeue())\n",
    "\n",
    "    while not G.is_empty():\n",
    "        S.enqueue(G.dequeue())\n"
   ]
  },
  {
   "cell_type": "code",
   "execution_count": 7,
   "id": "121de04c",
   "metadata": {},
   "outputs": [],
   "source": [
    "s = LinkedQueue()\n",
    "s.enqueue(1)\n",
    "s.enqueue(2)\n",
    "s.enqueue(5)\n",
    "s.enqueue(3)\n",
    "s.enqueue(4)"
   ]
  },
  {
   "cell_type": "code",
   "execution_count": 8,
   "id": "bb5dfa75",
   "metadata": {},
   "outputs": [
    {
     "name": "stdout",
     "output_type": "stream",
     "text": [
      "1\n",
      "2\n",
      "5\n",
      "3\n",
      "4\n"
     ]
    }
   ],
   "source": [
    "while not s.is_empty():\n",
    "    print(s.dequeue())"
   ]
  },
  {
   "cell_type": "code",
   "execution_count": 10,
   "id": "632d599f",
   "metadata": {},
   "outputs": [],
   "source": [
    "s.enqueue(1)\n",
    "s.enqueue(2)\n",
    "s.enqueue(5)\n",
    "s.enqueue(3)\n",
    "s.enqueue(4)"
   ]
  },
  {
   "cell_type": "code",
   "execution_count": 11,
   "id": "b89d35c0",
   "metadata": {},
   "outputs": [],
   "source": [
    "quickSort(s)"
   ]
  },
  {
   "cell_type": "code",
   "execution_count": 12,
   "id": "38c2934c",
   "metadata": {},
   "outputs": [
    {
     "name": "stdout",
     "output_type": "stream",
     "text": [
      "1\n",
      "2\n",
      "3\n",
      "4\n",
      "5\n"
     ]
    }
   ],
   "source": [
    "while not s.is_empty():\n",
    "    print(s.dequeue())"
   ]
  },
  {
   "cell_type": "code",
   "execution_count": null,
   "id": "7446b26f",
   "metadata": {},
   "outputs": [],
   "source": []
  }
 ],
 "metadata": {
  "kernelspec": {
   "display_name": "Python 3",
   "language": "python",
   "name": "python3"
  },
  "language_info": {
   "codemirror_mode": {
    "name": "ipython",
    "version": 3
   },
   "file_extension": ".py",
   "mimetype": "text/x-python",
   "name": "python",
   "nbconvert_exporter": "python",
   "pygments_lexer": "ipython3",
   "version": "3.11.9"
  }
 },
 "nbformat": 4,
 "nbformat_minor": 5
}
