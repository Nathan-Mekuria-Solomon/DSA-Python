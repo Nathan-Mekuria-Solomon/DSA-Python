{
 "cells": [
  {
   "cell_type": "markdown",
   "id": "151a3115",
   "metadata": {},
   "source": [
    "By implementing queue like inserting and deletion (FIFO, LILO), we can ensure our algorithm is stable (equal key values are returned in order of the original sequence)"
   ]
  },
  {
   "cell_type": "code",
   "execution_count": null,
   "id": "0f79b8a2",
   "metadata": {},
   "outputs": [],
   "source": [
    "def buckle_sort(S, N):\n",
    "    \"\"\"Sorting list of tuple S with keys ranging from [0, N-1]\"\"\"\n",
    "    B = [[] for _ in range(N)]\n",
    "\n",
    "    while S:\n",
    "        e = S.pop(0)\n",
    "        k = e[0]\n",
    "        B[k].append(e)\n",
    "        \n",
    "    for i in range(N):\n",
    "        for e in B[i]:\n",
    "            S.append(e)\n",
    "\n",
    "    return S"
   ]
  },
  {
   "cell_type": "code",
   "execution_count": 5,
   "id": "cdce36ac",
   "metadata": {},
   "outputs": [
    {
     "data": {
      "text/plain": [
       "[(1, 'c'), (2, 'a'), (2, 'd'), (3, 'b')]"
      ]
     },
     "execution_count": 5,
     "metadata": {},
     "output_type": "execute_result"
    }
   ],
   "source": [
    "s = [(2, 'a'), (1, 'c'), (2, 'd'), (3, 'b')]\n",
    "buckle_sort(s, 4)\n",
    "s"
   ]
  },
  {
   "cell_type": "markdown",
   "id": "a037ee8c",
   "metadata": {},
   "source": [
    "Radix Sort Algorithm for lexicographical sorting"
   ]
  },
  {
   "cell_type": "code",
   "execution_count": 30,
   "id": "6c3fe101",
   "metadata": {},
   "outputs": [],
   "source": [
    "def radix_sort(S, N):\n",
    "    B = [[] for _ in range(N)]\n",
    "\n",
    "    while S:\n",
    "        e = S.pop(0)\n",
    "        k = e[1]\n",
    "        B[k].append(e)\n",
    "\n",
    "    for i in range(N):\n",
    "        for e in B[i]:\n",
    "            S.append(e)\n",
    "\n",
    "    B= [[] for _ in range(N)]\n",
    "\n",
    "    while S:\n",
    "        e = s.pop(0)\n",
    "        k = e[0]\n",
    "        B[k].append(e)\n",
    "\n",
    "    for i in range(N):\n",
    "        for e in B[i]:\n",
    "            S.append(e)\n",
    "\n",
    "    return S"
   ]
  },
  {
   "cell_type": "code",
   "execution_count": 31,
   "id": "a39e83db",
   "metadata": {},
   "outputs": [
    {
     "data": {
      "text/plain": [
       "[(1, 2), (1, 5), (1, 7), (2, 2), (2, 3), (2, 5), (3, 2), (3, 3)]"
      ]
     },
     "execution_count": 31,
     "metadata": {},
     "output_type": "execute_result"
    }
   ],
   "source": [
    "s = [(3, 3), (1, 5), (2, 5), (1, 2), (2, 3), (1, 7), (3, 2), (2, 2)]\n",
    "radix_sort(s, 8)\n",
    "s"
   ]
  },
  {
   "cell_type": "code",
   "execution_count": null,
   "id": "01c229a7",
   "metadata": {},
   "outputs": [],
   "source": []
  }
 ],
 "metadata": {
  "kernelspec": {
   "display_name": "Python 3",
   "language": "python",
   "name": "python3"
  },
  "language_info": {
   "codemirror_mode": {
    "name": "ipython",
    "version": 3
   },
   "file_extension": ".py",
   "mimetype": "text/x-python",
   "name": "python",
   "nbconvert_exporter": "python",
   "pygments_lexer": "ipython3",
   "version": "3.11.9"
  }
 },
 "nbformat": 4,
 "nbformat_minor": 5
}
