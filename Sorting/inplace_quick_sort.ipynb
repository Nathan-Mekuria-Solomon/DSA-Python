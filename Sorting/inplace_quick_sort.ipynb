{
 "cells": [
  {
   "cell_type": "markdown",
   "id": "9425e27e",
   "metadata": {},
   "source": [
    "Sorting using in-place quick sort algorithms (Memory-efficient quick sort algorithm)"
   ]
  },
  {
   "cell_type": "code",
   "execution_count": 6,
   "id": "60f035be",
   "metadata": {},
   "outputs": [],
   "source": [
    "def inplace_quick_sort(S, a, b):\n",
    "    \"\"\"Sort list from S[a] to S[b] using inplace quick sort algorithm\"\"\"\n",
    "    if a >= b: return # trivially sorted\n",
    "\n",
    "    pivot = S[b]\n",
    "    left = a\n",
    "    right = b - 1\n",
    "\n",
    "    while left <= right:\n",
    "        while left <= right and S[left] < pivot:\n",
    "            left += 1\n",
    "        \n",
    "        while left <= right and S[right] > pivot:\n",
    "            right -= 1\n",
    "\n",
    "        if left <= right:\n",
    "            S[left], S[right] = S[right], S[left]\n",
    "            left, right = left + 1, right - 1\n",
    "\n",
    "    S[left], S[b] = S[b], S[left]\n",
    "    inplace_quick_sort(S, a, left - 1)\n",
    "    inplace_quick_sort(S, left + 1, b)"
   ]
  },
  {
   "cell_type": "code",
   "execution_count": 7,
   "id": "bb744fd0",
   "metadata": {},
   "outputs": [
    {
     "data": {
      "text/plain": [
       "[0, 1, 2, 3, 5, 6, 8]"
      ]
     },
     "execution_count": 7,
     "metadata": {},
     "output_type": "execute_result"
    }
   ],
   "source": [
    "S = [1, 5, 8, 0,2, 3,6]\n",
    "inplace_quick_sort(S, 0, 6)\n",
    "S"
   ]
  },
  {
   "cell_type": "code",
   "execution_count": null,
   "id": "da6b067f",
   "metadata": {},
   "outputs": [],
   "source": []
  }
 ],
 "metadata": {
  "kernelspec": {
   "display_name": "Python 3",
   "language": "python",
   "name": "python3"
  },
  "language_info": {
   "codemirror_mode": {
    "name": "ipython",
    "version": 3
   },
   "file_extension": ".py",
   "mimetype": "text/x-python",
   "name": "python",
   "nbconvert_exporter": "python",
   "pygments_lexer": "ipython3",
   "version": "3.11.9"
  }
 },
 "nbformat": 4,
 "nbformat_minor": 5
}
