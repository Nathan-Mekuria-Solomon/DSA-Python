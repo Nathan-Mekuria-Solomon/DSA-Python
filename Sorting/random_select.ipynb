{
 "cells": [
  {
   "cell_type": "markdown",
   "id": "23cf53bc",
   "metadata": {},
   "source": [
    "Random Select algorithm for selecting the k-th smallest element in the list with expected runtime of O(n)\n",
    "The expected running time of randomized quick-select on a sequence S of size n is O(n), assuming two elements of S can be compared in O(1) time."
   ]
  },
  {
   "cell_type": "code",
   "execution_count": 3,
   "id": "f9f69522",
   "metadata": {},
   "outputs": [],
   "source": [
    "import random\n",
    "\n",
    "def random_select(S, k):\n",
    "    \"\"\"Returns the kth element from the list S using prude-and-select design pattern, where k is between [1, len(S)]\"\"\"\n",
    "    n = len(S)\n",
    "\n",
    "    if n == 1:\n",
    "        return S[0]\n",
    "    \n",
    "    pivot = random.choice(S)\n",
    "    L = [x for x in S if x < pivot]\n",
    "    E = [x for x in S if x == pivot]\n",
    "    G = [x for x in S if x > pivot]\n",
    "\n",
    "    if k <= len(L):\n",
    "        random_select(L, k)\n",
    "    elif k <= len(L) + len(E):\n",
    "        return pivot\n",
    "    else:\n",
    "        j = k - len(L) - len(E)\n",
    "        random_select(G, j)"
   ]
  },
  {
   "cell_type": "code",
   "execution_count": 10,
   "id": "9a224afe",
   "metadata": {},
   "outputs": [
    {
     "data": {
      "text/plain": [
       "4"
      ]
     },
     "execution_count": 10,
     "metadata": {},
     "output_type": "execute_result"
    }
   ],
   "source": [
    "s = [1, 4, 6, 9, 11, 2, 4, 10, 3]\n",
    "k = random_select(s, 5)\n",
    "k"
   ]
  }
 ],
 "metadata": {
  "kernelspec": {
   "display_name": "Python 3",
   "language": "python",
   "name": "python3"
  },
  "language_info": {
   "codemirror_mode": {
    "name": "ipython",
    "version": 3
   },
   "file_extension": ".py",
   "mimetype": "text/x-python",
   "name": "python",
   "nbconvert_exporter": "python",
   "pygments_lexer": "ipython3",
   "version": "3.11.9"
  }
 },
 "nbformat": 4,
 "nbformat_minor": 5
}
