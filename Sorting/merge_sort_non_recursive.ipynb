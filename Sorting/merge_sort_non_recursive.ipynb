{
 "cells": [
  {
   "cell_type": "markdown",
   "id": "eafc2cc7",
   "metadata": {},
   "source": [
    "Merge sort implementation that uses bottom-up (non recursive) approach"
   ]
  },
  {
   "cell_type": "code",
   "execution_count": 9,
   "id": "bb0a35d7",
   "metadata": {},
   "outputs": [],
   "source": [
    "def merge(src, result, start, inc):\n",
    "    \"\"\"Merge python list Src[start: start + inc] and Src[start + inc: start + 2 * inc] into result\"\"\"\n",
    "    end1 = start + inc\n",
    "    end2 = min(start + 2 * inc, len(src))\n",
    "    x, y, z = start, start + inc, start\n",
    "\n",
    "    while x < end1 and y < end2:\n",
    "        if src[x] < src[y]:\n",
    "            result[z] = src[x]; x += 1\n",
    "        else:\n",
    "            result[z] = src[y]; y += 1\n",
    "        z += 1\n",
    "\n",
    "    if x < end1:\n",
    "        result[z: end2] = src[x: end1]\n",
    "    elif y < end2:\n",
    "        result[z: end2] = src[y: end2]"
   ]
  },
  {
   "cell_type": "code",
   "execution_count": null,
   "id": "9594df33",
   "metadata": {},
   "outputs": [],
   "source": [
    "import math\n",
    "\n",
    "def merge_sort(S):\n",
    "    \"\"\"Sort python list S using merge sort (non-recursive) algorithm\"\"\"\n",
    "    n = len(S)\n",
    "    logn = math.ceil(math.log(n, 2))\n",
    "\n",
    "    src = S \n",
    "    dest = [None] * n \n",
    "\n",
    "    for i in (2 ** k for k in range(logn)):\n",
    "        for j in range(0, n, 2 * i):\n",
    "            merge(src, dest, j, i)\n",
    "\n",
    "        src, dest = dest, src # swapping lists for memory conservation\n",
    "\n",
    "    if S is not src:\n",
    "        S[0:n] = src[0:n]"
   ]
  },
  {
   "cell_type": "code",
   "execution_count": 11,
   "id": "91f548aa",
   "metadata": {},
   "outputs": [
    {
     "data": {
      "text/plain": [
       "[0, 1, 2, 3, 4, 6, 7, 9]"
      ]
     },
     "execution_count": 11,
     "metadata": {},
     "output_type": "execute_result"
    }
   ],
   "source": [
    "S = [1, 4, 6, 2, 3, 7, 9, 0]\n",
    "merge_sort(S)\n",
    "S"
   ]
  },
  {
   "cell_type": "code",
   "execution_count": null,
   "id": "5e097232",
   "metadata": {},
   "outputs": [],
   "source": []
  }
 ],
 "metadata": {
  "kernelspec": {
   "display_name": "Python 3",
   "language": "python",
   "name": "python3"
  },
  "language_info": {
   "codemirror_mode": {
    "name": "ipython",
    "version": 3
   },
   "file_extension": ".py",
   "mimetype": "text/x-python",
   "name": "python",
   "nbconvert_exporter": "python",
   "pygments_lexer": "ipython3",
   "version": "3.11.9"
  }
 },
 "nbformat": 4,
 "nbformat_minor": 5
}
