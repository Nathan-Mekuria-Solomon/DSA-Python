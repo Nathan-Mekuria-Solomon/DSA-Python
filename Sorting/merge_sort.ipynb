{
 "cells": [
  {
   "cell_type": "markdown",
   "metadata": {},
   "source": [
    "1. Array-list Implementation of Merge-Sort"
   ]
  },
  {
   "cell_type": "code",
   "execution_count": 3,
   "metadata": {},
   "outputs": [],
   "source": [
    "def merge(S1, S2, S):\n",
    "    \"\"\"\"Merging Python List S1 and S2 into Properly Sized List S\"\"\"\n",
    "    i = j = 0\n",
    "\n",
    "    while i + j < len(S):\n",
    "        if j == len(S2) or (i < len(S1) and S1[i] < S2[j]):\n",
    "            S[i + j] = S1[i]\n",
    "            i += 1\n",
    "        else:\n",
    "            S[i + j] = S2[j]\n",
    "            j += 1 "
   ]
  },
  {
   "cell_type": "code",
   "execution_count": 4,
   "metadata": {},
   "outputs": [],
   "source": [
    "def merge_sort(S):\n",
    "    \"\"\"Sorting Python list S using merge-sort algorithm\"\"\"\n",
    "    n = len(S)\n",
    "\n",
    "    if n < 2:\n",
    "        return # already sorted\n",
    "    \n",
    "    mid = n // 2\n",
    "    S1 = S[:mid]\n",
    "    S2 = S[mid:]\n",
    "\n",
    "    merge_sort(S1)\n",
    "    merge_sort(S2)\n",
    "\n",
    "    merge(S1, S2, S)"
   ]
  },
  {
   "cell_type": "code",
   "execution_count": 5,
   "metadata": {},
   "outputs": [
    {
     "data": {
      "text/plain": [
       "[1, 2, 4, 4, 5, 6, 8]"
      ]
     },
     "execution_count": 5,
     "metadata": {},
     "output_type": "execute_result"
    }
   ],
   "source": [
    "s = [2, 4, 6, 1, 4, 5, 8]\n",
    "merge_sort(s)\n",
    "s"
   ]
  },
  {
   "cell_type": "markdown",
   "metadata": {},
   "source": [
    "2. Linked List Representation of Merge Sort"
   ]
  },
  {
   "cell_type": "code",
   "execution_count": 9,
   "metadata": {},
   "outputs": [],
   "source": [
    "def merge_ll(S1, S2, S):\n",
    "    \"\"\"Merge two sorted queue instances S1 and S2 into empty queue S\"\"\"\n",
    "    while S1 and S2:\n",
    "        if S1[0] < S2[0]:\n",
    "            S.append(S1.popleft())\n",
    "        else:\n",
    "            S.append(S2.popleft())\n",
    "\n",
    "    while S1:\n",
    "        S.append(S1.popleft())\n",
    "\n",
    "    while S2:\n",
    "        S.append(S2.popleft())"
   ]
  },
  {
   "cell_type": "code",
   "execution_count": 11,
   "metadata": {},
   "outputs": [],
   "source": [
    "from collections import deque\n",
    "\n",
    "def merge_sort_ll(S):\n",
    "    \"\"\"Sort queue S using merge-sort algorithm\"\"\"\n",
    "    n = len(S)\n",
    "\n",
    "    if n < 2:\n",
    "        return \n",
    "    \n",
    "    S1 = deque()\n",
    "    S2 = deque()\n",
    "\n",
    "    while len(S1) < n // 2:\n",
    "        S1.append(S.popleft())\n",
    "\n",
    "    while S:\n",
    "        S2.append(S.popleft())\n",
    "\n",
    "    merge_sort_ll(S1)\n",
    "    merge_sort_ll(S2)\n",
    "\n",
    "    merge_ll(S1, S2, S)\n"
   ]
  },
  {
   "cell_type": "code",
   "execution_count": 12,
   "metadata": {},
   "outputs": [
    {
     "data": {
      "text/plain": [
       "deque([1, 3, 5, 7, 8, 9, 3, 2, 5, 6])"
      ]
     },
     "execution_count": 12,
     "metadata": {},
     "output_type": "execute_result"
    }
   ],
   "source": [
    "s = deque([1, 3, 5, 7, 8, 9, 3, 2, 5, 6])\n",
    "s\n"
   ]
  },
  {
   "cell_type": "code",
   "execution_count": 15,
   "metadata": {},
   "outputs": [
    {
     "data": {
      "text/plain": [
       "[1, 2, 3, 3, 5, 5, 6, 7, 8, 9]"
      ]
     },
     "execution_count": 15,
     "metadata": {},
     "output_type": "execute_result"
    }
   ],
   "source": [
    "merge_sort_ll(s)\n",
    "list(s)"
   ]
  },
  {
   "cell_type": "code",
   "execution_count": null,
   "metadata": {},
   "outputs": [],
   "source": []
  }
 ],
 "metadata": {
  "kernelspec": {
   "display_name": "Python 3",
   "language": "python",
   "name": "python3"
  },
  "language_info": {
   "codemirror_mode": {
    "name": "ipython",
    "version": 3
   },
   "file_extension": ".py",
   "mimetype": "text/x-python",
   "name": "python",
   "nbconvert_exporter": "python",
   "pygments_lexer": "ipython3",
   "version": "3.11.9"
  }
 },
 "nbformat": 4,
 "nbformat_minor": 2
}
