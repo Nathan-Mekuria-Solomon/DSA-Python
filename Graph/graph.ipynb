{
 "cells": [
  {
   "cell_type": "code",
   "execution_count": 23,
   "metadata": {},
   "outputs": [],
   "source": [
    "# vertix class\n",
    "import sys\n",
    "\n",
    "class Vertix(object):\n",
    "    def __init__(self, node):\n",
    "        self.id = node\n",
    "        self.adjacent = {}\n",
    "        self.distance = sys.maxsize # why ?\n",
    "        self.visited = False\n",
    "        self.prev = None # why ?\n",
    "        self.color = 'white'\n",
    "\n",
    "    def addNeighbor(self, neighbor, weight = 0):\n",
    "        self.adjacent[neighbor] = weight # for weighted graph\n",
    "\n",
    "    def getConnections(self):\n",
    "        return self.adjacent.keys()\n",
    "    \n",
    "    def getVertixId(self):\n",
    "        return self.id\n",
    "    \n",
    "    def getWeight(self, neighbor):\n",
    "        return self.adjacent[neighbor]\n",
    "    \n",
    "    def setColor(self, color):\n",
    "        self.color = color\n",
    "\n",
    "    def setVisited(self):\n",
    "        self.visited = True\n",
    "\n",
    "    def getVisited(self):\n",
    "        return self.visited\n",
    "    \n",
    "    def setDistance(self, distance):\n",
    "        self.distance = distance\n",
    "\n",
    "    def getDistance(self):\n",
    "        return self.distance\n",
    "    \n",
    "    def setPrev(self, prev):\n",
    "        self.prev = prev\n",
    "\n",
    "    def getPrev(self):\n",
    "        return self.prev\n",
    "    \n",
    "    # def __str__(self):\n",
    "        # return str(self.id) + 'adjacent: ' + str([neighbor.id for neighbor in self.adjacent])\n",
    "\n"
   ]
  },
  {
   "cell_type": "code",
   "execution_count": 2,
   "metadata": {},
   "outputs": [],
   "source": [
    "class Graph(object):\n",
    "    def __init__(self):\n",
    "        self.vertDict = dict()\n",
    "        self.numOfVertix = 0\n",
    "\n",
    "    def __iter__(self): # return iterable object\n",
    "        return iter(self.vertDict.values()) # why ?\n",
    "    \n",
    "    def addVertix(self, node):\n",
    "        self.numOfVertix += 1\n",
    "        newNode = Vertix(node)\n",
    "        self.vertDict[node] = newNode\n",
    "        return newNode\n",
    "\n",
    "    def getVertix(self, node):\n",
    "        if node in self.vertDict:\n",
    "            return self.vertDict[node]\n",
    "        else:\n",
    "            return None\n",
    "    def addEdge(self, frm, to, cost= 0):\n",
    "        if frm not in self.vertDict:\n",
    "            self.addVertix(frm)\n",
    "\n",
    "        if to not in self.vertDict:\n",
    "            self.addVertix(to)\n",
    "\n",
    "        # for directed graph\n",
    "        self.vertDict[frm].addNeighbor(to, cost)\n",
    "\n",
    "    def getVertices(self):\n",
    "        return self.vertDict.keys()\n",
    "    \n",
    "    def getEdges(self):\n",
    "        edges = []\n",
    "        for v in self.__iter__():\n",
    "            for neigh in v.getConnections():\n",
    "                v_id = v.getVertixId()\n",
    "                neigh_id = self.vertDict[neigh].getVertixId()\n",
    "                edges.append([v_id, neigh_id, v.getWeight(neigh)])\n",
    "\n",
    "        return edges\n"
   ]
  },
  {
   "cell_type": "code",
   "execution_count": 3,
   "metadata": {},
   "outputs": [
    {
     "data": {
      "text/plain": [
       "{'a': <__main__.Vertix at 0x1eaba6927d0>,\n",
       " 'b': <__main__.Vertix at 0x1eaba692490>,\n",
       " 'c': <__main__.Vertix at 0x1eaba692510>,\n",
       " 'd': <__main__.Vertix at 0x1eaba692d10>}"
      ]
     },
     "execution_count": 3,
     "metadata": {},
     "output_type": "execute_result"
    }
   ],
   "source": [
    "\n",
    "graph = Graph()\n",
    "graph.addVertix('a')\n",
    "graph.addVertix('b')\n",
    "graph.addVertix('c')\n",
    "graph.addVertix('d')\n",
    "\n",
    "graph.addEdge('a', 'b', 4)\n",
    "graph.addEdge('a', 'c', 1)\n",
    "graph.addEdge('c', 'b', 2)\n",
    "graph.addEdge('c', 'd', 4)\n",
    "\n",
    "# print(graph.getEdges())\n",
    "\n",
    "graph.vertDict\n",
    "\n"
   ]
  },
  {
   "cell_type": "markdown",
   "metadata": {},
   "source": [
    "Depth First Search"
   ]
  },
  {
   "cell_type": "code",
   "execution_count": 4,
   "metadata": {},
   "outputs": [],
   "source": [
    "# recursive approach\n",
    "\n",
    "def dfsTraversal(graph):\n",
    "    visited = dict()\n",
    "    for vertix in graph: # returns Class Vertix\n",
    "        if vertix not in visited:\n",
    "            dfs(graph, vertix, visited)\n",
    "\n",
    "def dfs(graph, vertix, visited):\n",
    "    visited[vertix] = True\n",
    "    print(vertix.getVertixId())\n",
    "    for neigh in vertix.getConnections():\n",
    "        neigh = graph.vertDict[neigh]\n",
    "        # print(\"flag 1: \", neigh)\n",
    "        if neigh not in visited:\n",
    "            dfs(graph, neigh, visited)\n"
   ]
  },
  {
   "cell_type": "code",
   "execution_count": 5,
   "metadata": {},
   "outputs": [
    {
     "name": "stdout",
     "output_type": "stream",
     "text": [
      "<__main__.Vertix object at 0x000001EABA6927D0>\n",
      "<__main__.Vertix object at 0x000001EABA692490>\n",
      "<__main__.Vertix object at 0x000001EABA692510>\n",
      "<__main__.Vertix object at 0x000001EABA692D10>\n"
     ]
    }
   ],
   "source": [
    "for i in graph:\n",
    "    print(i)"
   ]
  },
  {
   "cell_type": "code",
   "execution_count": 6,
   "metadata": {},
   "outputs": [
    {
     "name": "stdout",
     "output_type": "stream",
     "text": [
      "a\n",
      "b\n",
      "c\n",
      "d\n"
     ]
    }
   ],
   "source": [
    "# example\n",
    "dfsTraversal(graph)"
   ]
  },
  {
   "cell_type": "code",
   "execution_count": 7,
   "metadata": {},
   "outputs": [],
   "source": [
    "import queue\n",
    "\n",
    "def BFSTraversal(graph, start):\n",
    "    # start = graph.getVertix(start)\n",
    "    start.prev = None\n",
    "    start.distance = 0\n",
    "    vertQueue = queue.Queue()\n",
    "    vertQueue.put(start)\n",
    "\n",
    "    while (vertQueue.qsize() > 0):\n",
    "        currVertix = vertQueue.get()\n",
    "        print(currVertix.getVertixId())\n",
    "        for nbr in currVertix.getConnections():\n",
    "            nbr = graph.vertDict[nbr] # nbr is just a string here\n",
    "            if nbr.color == 'white':\n",
    "                nbr.setColor('gray')\n",
    "                nbr.distance = currVertix.distance + 1\n",
    "                vertQueue.put(nbr)\n",
    "        currVertix.setColor('black')\n",
    "\n",
    "def BFS(graph):\n",
    "    for vertix in graph: # vertix is class Vertix here\n",
    "        if vertix.color == 'white':\n",
    "            BFSTraversal(graph, vertix)"
   ]
  },
  {
   "cell_type": "code",
   "execution_count": 8,
   "metadata": {},
   "outputs": [
    {
     "name": "stdout",
     "output_type": "stream",
     "text": [
      "a\n",
      "b\n",
      "c\n",
      "d\n"
     ]
    }
   ],
   "source": [
    "BFS(graph)"
   ]
  },
  {
   "cell_type": "code",
   "execution_count": null,
   "metadata": {},
   "outputs": [],
   "source": [
    "# shortest-path algorithm (unweighted edge)\n",
    "# we need to set unvisited distance as -1\n",
    "\n",
    "def unweightedShortedPath(graph, s):\n",
    "    \"\"\" Computes the shortest distance from source node s to each vertix in the graph\n",
    "    Argument:\n",
    "        graph          -- object of class Graph\n",
    "        s              -- id of source vertix\n",
    "    Return:\n",
    "        graph.vertDict -- dictionary of the vertices of the graph\n",
    "    \"\"\"\n",
    "    source = graph.getVertix(s)\n",
    "    source.distance = 0\n",
    "    source.prev = None\n",
    "    vertQueue = queue.Queue()\n",
    "    vertQueue.put(source)\n",
    " \n",
    "    while(vertQueue.qsize() > 0):\n",
    "        curr = vertQueue.get()\n",
    "        for nbr in curr.getConnections():\n",
    "            nbr = graph.vertDict[nbr]\n",
    "            \n",
    "            if nbr.distance == -1:\n",
    "                nbr.prev = curr\n",
    "                nbr.distance = curr.distance + 1\n",
    "                vertQueue.put(nbr)\n",
    "\n",
    "    return graph.vertDict.values()\n",
    "            "
   ]
  },
  {
   "cell_type": "code",
   "execution_count": 18,
   "metadata": {},
   "outputs": [
    {
     "name": "stdout",
     "output_type": "stream",
     "text": [
      "a -- 0\n",
      "b -- 1\n",
      "c -- 1\n",
      "d -- 2\n"
     ]
    }
   ],
   "source": [
    "for key in unweightedShortedPath(graph, 'a'):\n",
    "    print(key.getVertixId(), '--', key.distance)"
   ]
  },
  {
   "cell_type": "code",
   "execution_count": 70,
   "metadata": {},
   "outputs": [],
   "source": [
    "# shortest-path for weighted edged graph\n",
    "# dijkstra (initial distance should be large first (sys.maxsize))\n",
    "\n",
    "import heapq\n",
    "\n",
    "def dijkstra(graph, s):\n",
    "    \"\"\" Computes the shortest distance between source starting vertix to each vertix\n",
    "    Argument:\n",
    "        graph          -- an instance of Graph class\n",
    "        s              -- id of a strating vertix\n",
    "    Returns:\n",
    "        graph.vertDict -- dictionary of all vertices of the graph\n",
    "    \"\"\"\n",
    "    start = graph.getVertix(s)\n",
    "    start.setDistance(0)\n",
    "    unvisited = [(v.getDistance(), v) for v in graph.vertDict.values()]\n",
    "    print(unvisited)\n",
    "    heapq.heapify(unvisited)\n",
    "\n",
    "    while len(unvisited):\n",
    "        curr_tuple = heapq.heappop(unvisited) # returns tuple\n",
    "        curr = curr_tuple[1] # the vertix is the second element of the tuple\n",
    "        curr.setVisited()\n",
    "\n",
    "        for next_ in curr.adjacent:\n",
    "            next = graph.getVertix(next_)\n",
    "            \n",
    "            if next.getVisited():\n",
    "                continue\n",
    "\n",
    "            newDistance = curr.getDistance() + curr.getWeight(next_)\n",
    "            \n",
    "            if newDistance < next.getDistance():\n",
    "                next.setDistance(newDistance)\n",
    "                next.setPrev(curr)\n",
    "\n",
    "        # empty unvisited\n",
    "        while len(unvisited):\n",
    "            heapq.heappop(unvisited)\n",
    "\n",
    "        # rebuild unvisited\n",
    "        unvisited = [(v.getDistance(), v) for v in graph if not v.getVisited()]\n",
    "\n",
    "    return graph.vertDict\n",
    "\n"
   ]
  },
  {
   "cell_type": "code",
   "execution_count": 76,
   "metadata": {},
   "outputs": [],
   "source": [
    "import heapq\n",
    "import sys\n",
    "\n",
    "def dijkstra(graph, s):\n",
    "    \"\"\"Computes the shortest distance from source vertex to all other vertices.\"\"\"\n",
    "    start = graph.getVertix(s)\n",
    "    start.setDistance(0)\n",
    "    \n",
    "    # Priority queue (min-heap)\n",
    "    unvisited = []\n",
    "    heapq.heappush(unvisited, (start.getDistance(), start))  # Push the starting node\n",
    "\n",
    "    while unvisited:\n",
    "        curr_distance, curr = heapq.heappop(unvisited)  # Extract the closest vertex\n",
    "        curr.setVisited()\n",
    "\n",
    "        for neighbor in curr.adjacent:\n",
    "            next_vertix = graph.getVertix(neighbor)\n",
    "\n",
    "            if next_vertix.getVisited():\n",
    "                continue\n",
    "\n",
    "            new_distance = curr.getDistance() + curr.getWeight(neighbor)\n",
    "\n",
    "            if new_distance < next_vertix.getDistance():\n",
    "                next_vertix.setDistance(new_distance)\n",
    "                next_vertix.setPrev(curr)\n",
    "                heapq.heappush(unvisited, (new_distance, next_vertix))  # Push updated distance\n",
    "\n",
    "    return graph.vertDict  # Returns the dictionary of all vertices with updated distances\n"
   ]
  },
  {
   "cell_type": "code",
   "execution_count": 77,
   "metadata": {},
   "outputs": [
    {
     "data": {
      "text/plain": [
       "{'a': <__main__.Vertix at 0x1eabb852850>,\n",
       " 'b': <__main__.Vertix at 0x1eabb853310>,\n",
       " 'c': <__main__.Vertix at 0x1eabb853ad0>,\n",
       " 'd': <__main__.Vertix at 0x1eabb851410>,\n",
       " 'e': <__main__.Vertix at 0x1eabb852dd0>}"
      ]
     },
     "execution_count": 77,
     "metadata": {},
     "output_type": "execute_result"
    }
   ],
   "source": [
    "# example\n",
    "graph = Graph()\n",
    "\n",
    "graph.addEdge('a', 'b', 4)\n",
    "graph.addEdge('a', 'c', 1)\n",
    "graph.addEdge('c', 'b', 2)\n",
    "graph.addEdge('c', 'd', 4)\n",
    "graph.addEdge('b', 'e', 4)\n",
    "graph.addEdge('d', 'e', 4)\n",
    "\n",
    "# print(graph.getEdges())\n",
    "\n",
    "graph.vertDict"
   ]
  },
  {
   "cell_type": "code",
   "execution_count": 78,
   "metadata": {},
   "outputs": [
    {
     "name": "stdout",
     "output_type": "stream",
     "text": [
      "9223372036854775807\n",
      "9223372036854775807\n",
      "9223372036854775807\n",
      "9223372036854775807\n",
      "9223372036854775807\n"
     ]
    }
   ],
   "source": [
    "for i in graph.vertDict.values():\n",
    "    print(i.getDistance())"
   ]
  },
  {
   "cell_type": "code",
   "execution_count": 79,
   "metadata": {},
   "outputs": [
    {
     "data": {
      "text/plain": [
       "[(9223372036854775807, <__main__.Vertix at 0x1eabb852850>),\n",
       " (9223372036854775807, <__main__.Vertix at 0x1eabb853310>),\n",
       " (9223372036854775807, <__main__.Vertix at 0x1eabb853ad0>),\n",
       " (9223372036854775807, <__main__.Vertix at 0x1eabb851410>),\n",
       " (9223372036854775807, <__main__.Vertix at 0x1eabb852dd0>)]"
      ]
     },
     "execution_count": 79,
     "metadata": {},
     "output_type": "execute_result"
    }
   ],
   "source": [
    "unvisited = [(v.getDistance(), v) for v in graph if not v.getVisited()]\n",
    "unvisited"
   ]
  },
  {
   "cell_type": "code",
   "execution_count": 83,
   "metadata": {},
   "outputs": [
    {
     "name": "stdout",
     "output_type": "stream",
     "text": [
      "a 9223372036854775807\n",
      "b 0\n",
      "c 9223372036854775807\n",
      "d 9223372036854775807\n",
      "e 4\n"
     ]
    }
   ],
   "source": [
    "for vertix in dijkstra(graph, 'b').values():\n",
    "    print(vertix.getVertixId(), vertix.getDistance())\n"
   ]
  },
  {
   "cell_type": "code",
   "execution_count": 88,
   "metadata": {},
   "outputs": [],
   "source": [
    "import heapq\n",
    "import sys\n",
    "\n",
    "def dijkstra_(graph, s):\n",
    "    start = graph.getVertix(s)\n",
    "    start.setDistance(0)\n",
    "    start.setPrev(None)\n",
    "    unvisited = []\n",
    "    heapq.heappush(unvisited, (start.getDistance(), start))\n",
    "\n",
    "    while unvisited:\n",
    "        curr_distance, curr = heapq.heappop(unvisited)\n",
    "        curr.setVisited()\n",
    "\n",
    "        for next in curr.adjacent:\n",
    "            next_vertix = graph.getVertix(next)\n",
    "\n",
    "            if next_vertix.getVisited():\n",
    "                continue\n",
    "\n",
    "            newDistance = curr.getDistance() + curr.getWeight(next)\n",
    "            if newDistance < next_vertix.getDistance():\n",
    "                next_vertix.setDistance(newDistance)\n",
    "                next_vertix.setPrev(curr)\n",
    "                heapq.heappush(unvisited, (next_vertix.getDistance(), next_vertix))\n",
    "\n",
    "    return graph.vertDict"
   ]
  },
  {
   "cell_type": "code",
   "execution_count": 89,
   "metadata": {},
   "outputs": [
    {
     "name": "stdout",
     "output_type": "stream",
     "text": [
      "a 9223372036854775807\n",
      "b 0\n",
      "c 9223372036854775807\n",
      "d 9223372036854775807\n",
      "e 4\n"
     ]
    }
   ],
   "source": [
    "for vertix in dijkstra_(graph, 'b').values():\n",
    "    print(vertix.getVertixId(), vertix.getDistance())"
   ]
  },
  {
   "cell_type": "code",
   "execution_count": 90,
   "metadata": {},
   "outputs": [],
   "source": [
    "# for negative edge and negative cycle detection\n",
    "class Graph(object):\n",
    "    def __init__(self, vertices):\n",
    "        self.V = vertices\n",
    "        self.edges = []\n",
    "\n",
    "    def addEdge(self, u, v, weight):\n",
    "        self.edges.append((u, v, weight))\n",
    "\n",
    "    def bellmanford(self, src):\n",
    "        # initialize distances\n",
    "        distance = {v: sys.maxsize for v in range(self.V)}\n",
    "        distance[src] = 0\n",
    "        predessor = {v : None for v in range(self.V)}\n",
    "\n",
    "        # relax the vertix V-1 times\n",
    "        for _ in range(self.V - 1):\n",
    "            for u, v, weight in self.edges:\n",
    "                if distance[u] != sys.maxsize and distance[u] + weight < distance[v]:\n",
    "                    distance[v] = distance[u] + weight\n",
    "                    predessor[v] = u\n",
    "\n",
    "        # detect negative cycle\n",
    "        for u, v, weight in self.edges:\n",
    "            if distance[u] != sys.maxsize and distance[u] + weight < distance[v]:\n",
    "                print(\"There is a negative cycle\")\n",
    "                return None\n",
    "        \n",
    "        return distance, predessor"
   ]
  },
  {
   "cell_type": "code",
   "execution_count": null,
   "metadata": {},
   "outputs": [],
   "source": []
  }
 ],
 "metadata": {
  "kernelspec": {
   "display_name": "Python 3",
   "language": "python",
   "name": "python3"
  },
  "language_info": {
   "codemirror_mode": {
    "name": "ipython",
    "version": 3
   },
   "file_extension": ".py",
   "mimetype": "text/x-python",
   "name": "python",
   "nbconvert_exporter": "python",
   "pygments_lexer": "ipython3",
   "version": "3.11.9"
  }
 },
 "nbformat": 4,
 "nbformat_minor": 2
}
