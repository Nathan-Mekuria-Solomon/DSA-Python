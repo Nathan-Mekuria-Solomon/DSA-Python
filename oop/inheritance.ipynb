{
 "cells": [
  {
   "cell_type": "markdown",
   "id": "f7253e3d",
   "metadata": {},
   "source": [
    "Implementation of Inheritance: <br>\n",
    "1. Overriding Parent Class Method <br>\n",
    "2. Extending Parent Class"
   ]
  },
  {
   "cell_type": "code",
   "execution_count": 8,
   "id": "40001cb1",
   "metadata": {},
   "outputs": [],
   "source": [
    "# Parent Class\n",
    "class HydroCarbon:\n",
    "    \"\"\"\"\"\"\n",
    "    def __init__(self, H, C):\n",
    "        self.H = H\n",
    "        self.C = C\n",
    "\n",
    "    def ihd(self):\n",
    "        \"\"\"returns the index of hydrogen deficiency of the hydrocarbon\"\"\"\n",
    "        return (2 * self.C + 2 - self.H) // 2"
   ]
  },
  {
   "cell_type": "code",
   "execution_count": 9,
   "id": "b100a177",
   "metadata": {},
   "outputs": [
    {
     "data": {
      "text/plain": [
       "0"
      ]
     },
     "execution_count": 9,
     "metadata": {},
     "output_type": "execute_result"
    }
   ],
   "source": [
    "methane = HydroCarbon(4, 1)\n",
    "methane.ihd()"
   ]
  },
  {
   "cell_type": "code",
   "execution_count": 26,
   "id": "7a581c46",
   "metadata": {},
   "outputs": [],
   "source": [
    "class Cyclic(HydroCarbon):\n",
    "    \"\"\"Aromatic class extends HydroCarbon class\"\"\"\n",
    "    def __init__(self, H, C, ring):\n",
    "        super().__init__(H, C)\n",
    "        self.ring = ring\n",
    "    def is_aromatic(self, pi_electrons, sp3):\n",
    "        \"\"\"Only checks one ring system aromati\"\"\"\n",
    "        if self.ring == 0:\n",
    "            return False\n",
    "        \n",
    "        huckle_number = pi_electrons - 2\n",
    "\n",
    "        if self.ring == 1 and huckle_number % 4 == 0 and sp3 == False:\n",
    "            return True\n",
    "        \n",
    "        return False"
   ]
  },
  {
   "cell_type": "code",
   "execution_count": 27,
   "id": "5ffaafe3",
   "metadata": {},
   "outputs": [
    {
     "data": {
      "text/plain": [
       "True"
      ]
     },
     "execution_count": 27,
     "metadata": {},
     "output_type": "execute_result"
    }
   ],
   "source": [
    "benzene = Cyclic(6, 6, 1)\n",
    "benzene.is_aromatic(6, False)"
   ]
  },
  {
   "cell_type": "code",
   "execution_count": 28,
   "id": "8ff82f35",
   "metadata": {},
   "outputs": [
    {
     "data": {
      "text/plain": [
       "True"
      ]
     },
     "execution_count": 28,
     "metadata": {},
     "output_type": "execute_result"
    }
   ],
   "source": [
    "propenyl_cation = Cyclic(3, 3, 1)\n",
    "propenyl_cation.is_aromatic(2, False)"
   ]
  },
  {
   "cell_type": "code",
   "execution_count": 29,
   "id": "e1457b2a",
   "metadata": {},
   "outputs": [
    {
     "data": {
      "text/plain": [
       "False"
      ]
     },
     "execution_count": 29,
     "metadata": {},
     "output_type": "execute_result"
    }
   ],
   "source": [
    "cyclo_butene = Cyclic(6, 4, 1)\n",
    "cyclo_butene.is_aromatic(2, True)"
   ]
  }
 ],
 "metadata": {
  "kernelspec": {
   "display_name": "Python 3",
   "language": "python",
   "name": "python3"
  },
  "language_info": {
   "codemirror_mode": {
    "name": "ipython",
    "version": 3
   },
   "file_extension": ".py",
   "mimetype": "text/x-python",
   "name": "python",
   "nbconvert_exporter": "python",
   "pygments_lexer": "ipython3",
   "version": "3.11.9"
  }
 },
 "nbformat": 4,
 "nbformat_minor": 5
}
