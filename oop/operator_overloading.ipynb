{
 "cells": [
  {
   "cell_type": "code",
   "execution_count": 1,
   "id": "a4817888",
   "metadata": {},
   "outputs": [],
   "source": [
    "# credit-card class\n",
    "class CreditCard(object):\n",
    "    def __init__(self, name, id, bank, debt= 0):\n",
    "        self.name = name\n",
    "        self.id = id\n",
    "        self.bank = bank\n",
    "        self.debt = debt\n",
    "\n",
    "    def __add__(self, credit_card):\n",
    "        if self.name == credit_card.name:\n",
    "            self.debt += credit_card.debt\n",
    "\n",
    "    def printDebt(self):\n",
    "        print(self.debt)"
   ]
  },
  {
   "cell_type": "code",
   "execution_count": 2,
   "id": "f9aa33ff",
   "metadata": {},
   "outputs": [
    {
     "name": "stdout",
     "output_type": "stream",
     "text": [
      "40\n"
     ]
    }
   ],
   "source": [
    "cc1 = CreditCard(\"Abe\", 1, \"Awash\", 10)\n",
    "cc2 = CreditCard(\"Abe\", 709, \"CBE\", 30)\n",
    "cc1 + cc2\n",
    "cc1.printDebt()"
   ]
  },
  {
   "cell_type": "code",
   "execution_count": 5,
   "id": "b120f2a1",
   "metadata": {},
   "outputs": [],
   "source": [
    "# vector class with overloaded __getitem__() and __add__() overloaded\n",
    "class Vector:\n",
    "    def __init__(self, dim):\n",
    "        self.coords = [0] * dim\n",
    "\n",
    "    def __len__(self):\n",
    "        return len(self.coords)\n",
    "    \n",
    "    def __setitem__(self, j, data):\n",
    "        self.coords[j] = data\n",
    "\n",
    "    def __getitem__(self, j):\n",
    "        return self.coords[j]\n",
    "    \n",
    "    def __add__(self, other):\n",
    "        if len(self) != len(other):\n",
    "            raise Exception(\"Dimension should be the same\")\n",
    "        result = Vector(len(self)) \n",
    "        for i in range(len(self)):\n",
    "            result[i] = self[i] + other[i]\n",
    "\n",
    "        return result\n",
    "    \n",
    "    def __eq__(self, other):\n",
    "        return self.coords == other.coords\n",
    "    \n",
    "    def __ne__(self, other):\n",
    "        return not self == other\n",
    "    \n",
    "    def __str__(self):\n",
    "        return \"<\" + str(self.coords)[1:-1] + \">\"        "
   ]
  },
  {
   "cell_type": "code",
   "execution_count": 6,
   "id": "698269bc",
   "metadata": {},
   "outputs": [
    {
     "name": "stdout",
     "output_type": "stream",
     "text": [
      "<3, 2, 6>\n"
     ]
    }
   ],
   "source": [
    "v1 = Vector(3)\n",
    "v1[0] = 1\n",
    "v1[1] = 0\n",
    "v1[2] = 2\n",
    "v2 = Vector(3)\n",
    "v2[0] = 2\n",
    "v2[1] = 2\n",
    "v2[2] = 4\n",
    "v3 = v1 + v2\n",
    "print(v3)"
   ]
  },
  {
   "cell_type": "code",
   "execution_count": 7,
   "id": "0f349f32",
   "metadata": {},
   "outputs": [],
   "source": [
    "class Range:\n",
    "    \"\"\"User-defined class that mimics built-in range class\"\"\"\n",
    "    def __init__(self, start, stop= None, step= 1):\n",
    "        if step == 0:\n",
    "            raise Exception(\"step cannot be 0\")\n",
    "        \n",
    "        if stop == None:\n",
    "            start, stop = 0, start\n",
    "\n",
    "        self.length = max(0, (stop - start + step - 1) // step)\n",
    "\n",
    "        self.start = start\n",
    "        self.step = step\n",
    "\n",
    "    def __len__(self):\n",
    "        return self.length\n",
    "    \n",
    "    def __getitem__(self, k):\n",
    "        if k < 0:\n",
    "            k += self.length\n",
    "\n",
    "        if not 0 <= k < self.length:\n",
    "            raise Exception(\"Index out of bound\")\n",
    "        \n",
    "        return self.start + k * self.step\n"
   ]
  },
  {
   "cell_type": "code",
   "execution_count": 8,
   "id": "763382b7",
   "metadata": {},
   "outputs": [
    {
     "data": {
      "text/plain": [
       "4"
      ]
     },
     "execution_count": 8,
     "metadata": {},
     "output_type": "execute_result"
    }
   ],
   "source": [
    "iter = Range(3, 10, 2)\n",
    "len(iter) #4"
   ]
  },
  {
   "cell_type": "code",
   "execution_count": 9,
   "id": "71fba1c0",
   "metadata": {},
   "outputs": [
    {
     "data": {
      "text/plain": [
       "9"
      ]
     },
     "execution_count": 9,
     "metadata": {},
     "output_type": "execute_result"
    }
   ],
   "source": [
    "iter[3]"
   ]
  },
  {
   "cell_type": "code",
   "execution_count": null,
   "id": "25aa14aa",
   "metadata": {},
   "outputs": [],
   "source": []
  }
 ],
 "metadata": {
  "kernelspec": {
   "display_name": "Python 3",
   "language": "python",
   "name": "python3"
  },
  "language_info": {
   "codemirror_mode": {
    "name": "ipython",
    "version": 3
   },
   "file_extension": ".py",
   "mimetype": "text/x-python",
   "name": "python",
   "nbconvert_exporter": "python",
   "pygments_lexer": "ipython3",
   "version": "3.11.9"
  }
 },
 "nbformat": 4,
 "nbformat_minor": 5
}
