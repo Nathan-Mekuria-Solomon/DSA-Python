{
 "cells": [
  {
   "cell_type": "markdown",
   "id": "b35b1bae",
   "metadata": {},
   "source": [
    "Longest Common Subsequence of a given 2 string X and Y"
   ]
  },
  {
   "cell_type": "markdown",
   "id": "e171ea8c",
   "metadata": {},
   "source": [
    "Formula: <br>\n",
    "$L_{j, k} = L_{j-1} + L_{k-1} \\; if \\: x_{j-1} = y_{k-1} $  <br>\n",
    "$L_{j, k} = max(L_{j, k-1}, L_{j-1, k}) \\; if \\: x_{j-1} \\neq y_{k-1} $"
   ]
  },
  {
   "cell_type": "code",
   "execution_count": 1,
   "id": "cc73ee5d",
   "metadata": {},
   "outputs": [],
   "source": [
    "def LCS(X, Y):\n",
    "    \"\"\"Returns a table L such that L[j][k] is the length of LCS of X[:j] and Y[:k]\"\"\"\n",
    "    n, m = len(X), len(Y)\n",
    "    L = [[0] * (m + 1) for _ in range(n + 1)]\n",
    "\n",
    "    for j in range(n):\n",
    "        for k in range(m):\n",
    "            if X[j] == Y[k]:\n",
    "                L[j + 1][k + 1] = 1 + L[j][k]\n",
    "            else:\n",
    "                L[j + 1][k + 1] = max(L[j][k + 1], L[j + 1][k])\n",
    "\n",
    "    return L"
   ]
  },
  {
   "cell_type": "markdown",
   "id": "747d0750",
   "metadata": {},
   "source": [
    "Reverse Engineering: <br>\n",
    "Reconstructing LCS from the length of LCS calculated using LCS() function in O(n + m)"
   ]
  },
  {
   "cell_type": "code",
   "execution_count": 8,
   "id": "7f93f8d8",
   "metadata": {},
   "outputs": [],
   "source": [
    "def LCS_solution(X, Y, L):\n",
    "    \"\"\"Returns the longest common substring of X and Y, given the LCS table L\"\"\"\n",
    "    j, k = len(X), len(Y)\n",
    "    solution = []\n",
    "\n",
    "    while L[j][k] > 0:\n",
    "        if X[j - 1] == Y[k - 1]:\n",
    "            solution.append(X[j - 1])\n",
    "            j -= 1\n",
    "            k -= 1\n",
    "        elif L[j-1][k] >= L[j][k-1]:\n",
    "            j -= 1\n",
    "        else:\n",
    "            k -= 1\n",
    "\n",
    "    return \"\".join(reversed(solution))"
   ]
  },
  {
   "cell_type": "code",
   "execution_count": 12,
   "id": "a64c427d",
   "metadata": {},
   "outputs": [
    {
     "data": {
      "text/plain": [
       "'GTAATA'"
      ]
     },
     "execution_count": 12,
     "metadata": {},
     "output_type": "execute_result"
    }
   ],
   "source": [
    "x = \"GTTCCTAATA\"\n",
    "y = \"CGATAATTGAG\"\n",
    "l = LCS(x, y)\n",
    "LCS_solution(x, y, l)"
   ]
  }
 ],
 "metadata": {
  "kernelspec": {
   "display_name": "Python 3",
   "language": "python",
   "name": "python3"
  },
  "language_info": {
   "codemirror_mode": {
    "name": "ipython",
    "version": 3
   },
   "file_extension": ".py",
   "mimetype": "text/x-python",
   "name": "python",
   "nbconvert_exporter": "python",
   "pygments_lexer": "ipython3",
   "version": "3.11.9"
  }
 },
 "nbformat": 4,
 "nbformat_minor": 5
}
