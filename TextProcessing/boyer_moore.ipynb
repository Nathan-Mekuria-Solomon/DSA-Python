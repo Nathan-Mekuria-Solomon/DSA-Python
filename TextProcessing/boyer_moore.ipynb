{
 "cells": [
  {
   "cell_type": "markdown",
   "id": "e0690ef6",
   "metadata": {},
   "source": [
    "Boyer-Moore's Algorithm"
   ]
  },
  {
   "cell_type": "code",
   "execution_count": 5,
   "id": "0955740f",
   "metadata": {},
   "outputs": [],
   "source": [
    "def boyer_moore(S, P):\n",
    "    \"\"\"returns the first index of pattern P in string S\"\"\"\n",
    "    n, m = len(S), len(P)\n",
    "\n",
    "    if m == 0: return 0 # empty string is a prefix for every string\n",
    "\n",
    "    last = {}\n",
    "    for i in range(m):\n",
    "        last[P[i]] = i\n",
    "\n",
    "    i = m - 1           # index for S\n",
    "    k = m - 1           # index for P\n",
    "\n",
    "    while i < n:\n",
    "        if S[i] == P[k]:\n",
    "            if k == 0:\n",
    "                return i\n",
    "            else:\n",
    "                i -= 1\n",
    "                k -= 1\n",
    "        else:\n",
    "            j = last.get(S[i], -1)  # if the character not in dict 'last' return -1 else return last[index]\n",
    "            i += m - min(k, j + 1)\n",
    "            k = m - 1\n",
    "\n",
    "    return -1        "
   ]
  },
  {
   "cell_type": "code",
   "execution_count": 6,
   "id": "65f3ddc2",
   "metadata": {},
   "outputs": [
    {
     "data": {
      "text/plain": [
       "3"
      ]
     },
     "execution_count": 6,
     "metadata": {},
     "output_type": "execute_result"
    }
   ],
   "source": [
    "s = 'abebec'\n",
    "p = 'bec'\n",
    "boyer_moore(s, p)"
   ]
  },
  {
   "cell_type": "code",
   "execution_count": null,
   "id": "ea3f4766",
   "metadata": {},
   "outputs": [],
   "source": []
  }
 ],
 "metadata": {
  "kernelspec": {
   "display_name": "Python 3",
   "language": "python",
   "name": "python3"
  },
  "language_info": {
   "codemirror_mode": {
    "name": "ipython",
    "version": 3
   },
   "file_extension": ".py",
   "mimetype": "text/x-python",
   "name": "python",
   "nbconvert_exporter": "python",
   "pygments_lexer": "ipython3",
   "version": "3.11.9"
  }
 },
 "nbformat": 4,
 "nbformat_minor": 5
}
