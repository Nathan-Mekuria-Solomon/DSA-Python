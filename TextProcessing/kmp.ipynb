{
 "cells": [
  {
   "cell_type": "markdown",
   "id": "5fc063b7",
   "metadata": {},
   "source": [
    "Knuth-Morris-Pratt algorithm \n",
    "\n",
    "This algorithm helps us to smartly traverse through the substring while mis-match happens. It reduces a redundant revisit of the substring by keep track of the longest prefix that is already a match"
   ]
  },
  {
   "cell_type": "code",
   "execution_count": 14,
   "id": "655d8db3",
   "metadata": {},
   "outputs": [],
   "source": [
    "def find_kmp(S, P):\n",
    "    \"\"\"Returns the starting index of substring P in string S; if not found -1\"\"\"\n",
    "    n, m = len(S), len(P)\n",
    "\n",
    "    if m == 0: return 0 # search for empty string\n",
    "\n",
    "    fail = fail_kmp(P)\n",
    "    j = 0\n",
    "    k = 0\n",
    "\n",
    "    while j < n:\n",
    "        if S[j] == P[k]:\n",
    "            if k == m - 1:\n",
    "                return j - k               # match complete\n",
    "            j += 1\n",
    "            k += 1\n",
    "        elif k > 0:                             # use fail utility\n",
    "            k = fail[k-1]\n",
    "        else:\n",
    "            j += 1\n",
    "\n",
    "    return -1"
   ]
  },
  {
   "cell_type": "code",
   "execution_count": 15,
   "id": "f003948e",
   "metadata": {},
   "outputs": [],
   "source": [
    "def fail_kmp(Str):\n",
    "    \"\"\"Returns a fail function for kmp algorithm (longest substring that already matched within a string Str itself)\"\"\"\n",
    "    m = len(Str)\n",
    "    fail = [0] * m\n",
    "\n",
    "    j = 1\n",
    "    k = 0\n",
    "\n",
    "    while j < m:\n",
    "        if Str[j] == Str[k]:\n",
    "            fail[j] = k + 1\n",
    "            k += 1\n",
    "            j += 1\n",
    "        elif k > 0:\n",
    "            k = fail[k-1]\n",
    "        else:\n",
    "            j += 1\n",
    "\n",
    "    return fail\n"
   ]
  },
  {
   "cell_type": "code",
   "execution_count": 16,
   "id": "f7b679f8",
   "metadata": {},
   "outputs": [
    {
     "data": {
      "text/plain": [
       "5"
      ]
     },
     "execution_count": 16,
     "metadata": {},
     "output_type": "execute_result"
    }
   ],
   "source": [
    "s = 'aaaafacdd'\n",
    "p = 'acd'\n",
    "find_kmp(s, p)"
   ]
  },
  {
   "cell_type": "code",
   "execution_count": null,
   "id": "62d116d4",
   "metadata": {},
   "outputs": [],
   "source": []
  }
 ],
 "metadata": {
  "kernelspec": {
   "display_name": "Python 3",
   "language": "python",
   "name": "python3"
  },
  "language_info": {
   "codemirror_mode": {
    "name": "ipython",
    "version": 3
   },
   "file_extension": ".py",
   "mimetype": "text/x-python",
   "name": "python",
   "nbconvert_exporter": "python",
   "pygments_lexer": "ipython3",
   "version": "3.11.9"
  }
 },
 "nbformat": 4,
 "nbformat_minor": 5
}
