{
 "cells": [
  {
   "cell_type": "markdown",
   "id": "21b879ea",
   "metadata": {},
   "source": [
    "1. Suboptimal Problem"
   ]
  },
  {
   "cell_type": "code",
   "execution_count": 2,
   "id": "fd4ef4f6",
   "metadata": {},
   "outputs": [],
   "source": [
    "def matrix_chain(d):\n",
    "    \"\"\"d is a list of n+1 numbers in which 2D matrix k has dimension k x k + 1\n",
    "    \n",
    "    Returns n x n matrix N where N[i][j] is a minimum multiplication needed to compute matrix Ai to Aj inclusive\"\"\"\n",
    "    n = len(d) - 1                  # number of matrices\n",
    "    N = [[0] for i in range(n)]\n",
    "\n",
    "    for b in range(1, n):           \n",
    "        for i in range(0, n-b):     # beginning of subchain\n",
    "            j = i + b               # end of subchain\n",
    "            N[i][j] = min(N[i][k] + N[k+1][j] + d[i]*d[k+1]*d[j+1] for k in range(i, j))\n",
    "\n",
    "    return N"
   ]
  },
  {
   "cell_type": "markdown",
   "id": "755c0a47",
   "metadata": {},
   "source": [
    "Since we have 3 nested for loops (including the line with min() function), the algorithm operates in $ O(n ^ 3) $"
   ]
  },
  {
   "cell_type": "markdown",
   "id": "2124cd2a",
   "metadata": {},
   "source": []
  }
 ],
 "metadata": {
  "kernelspec": {
   "display_name": "Python 3",
   "language": "python",
   "name": "python3"
  },
  "language_info": {
   "codemirror_mode": {
    "name": "ipython",
    "version": 3
   },
   "file_extension": ".py",
   "mimetype": "text/x-python",
   "name": "python",
   "nbconvert_exporter": "python",
   "pygments_lexer": "ipython3",
   "version": "3.11.9"
  }
 },
 "nbformat": 4,
 "nbformat_minor": 5
}
