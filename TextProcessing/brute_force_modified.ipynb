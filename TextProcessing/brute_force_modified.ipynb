{
 "cells": [
  {
   "cell_type": "code",
   "execution_count": 3,
   "id": "436014e4",
   "metadata": {},
   "outputs": [],
   "source": [
    "def brute_force(S, P):\n",
    "    \"\"\"Returns the first index at which substring P starts in S\"\"\"\n",
    "    n, m = len(S), len(P)\n",
    "\n",
    "    for i in range(n - m + 1):\n",
    "        k = 0\n",
    "        while k < m and S[i + k] == P[k]:\n",
    "            k += 1\n",
    "\n",
    "        if k == m:\n",
    "            return i\n",
    "        \n",
    "    return -1"
   ]
  },
  {
   "cell_type": "code",
   "execution_count": 8,
   "id": "db8b4330",
   "metadata": {},
   "outputs": [
    {
     "data": {
      "text/plain": [
       "2"
      ]
     },
     "execution_count": 8,
     "metadata": {},
     "output_type": "execute_result"
    }
   ],
   "source": [
    "s = 'nathan'\n",
    "p = 'tha'\n",
    "\n",
    "brute_force(s, p)"
   ]
  },
  {
   "cell_type": "code",
   "execution_count": null,
   "id": "66e5116e",
   "metadata": {},
   "outputs": [],
   "source": []
  }
 ],
 "metadata": {
  "kernelspec": {
   "display_name": "Python 3",
   "language": "python",
   "name": "python3"
  },
  "language_info": {
   "codemirror_mode": {
    "name": "ipython",
    "version": 3
   },
   "file_extension": ".py",
   "mimetype": "text/x-python",
   "name": "python",
   "nbconvert_exporter": "python",
   "pygments_lexer": "ipython3",
   "version": "3.11.9"
  }
 },
 "nbformat": 4,
 "nbformat_minor": 5
}
